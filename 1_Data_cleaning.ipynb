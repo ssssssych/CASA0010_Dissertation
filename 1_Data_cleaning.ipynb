{
 "cells": [
  {
   "cell_type": "markdown",
   "id": "d58a4b7a-bca1-4182-89f3-d46d568b3a0e",
   "metadata": {},
   "source": [
    "### Data Cleaning"
   ]
  },
  {
   "cell_type": "markdown",
   "id": "e9ecf416-b89a-4029-8e9e-8b4af52e0fea",
   "metadata": {},
   "source": [
    "This notebook outlines the steps taken to process and clean the LL84 which is one of three datasets needed for Model in predicting natural gas and electricity use."
   ]
  },
  {
   "cell_type": "code",
   "execution_count": 1,
   "id": "52aaef4f-ef42-4e07-8d58-3fd8b80714e9",
   "metadata": {},
   "outputs": [],
   "source": [
    "import pandas as pd"
   ]
  },
  {
   "cell_type": "markdown",
   "id": "a298ae29-33c3-44c7-9651-561b5b5152a7",
   "metadata": {},
   "source": [
    "### Reading LL84 data"
   ]
  },
  {
   "cell_type": "markdown",
   "id": "20c03112-5319-402a-9dd4-9fc099d829ac",
   "metadata": {},
   "source": [
    "This is public data available to download from here: https://data.cityofnewyork.us/Environment/Energy-and-Water-Data-Disclosure-for-Local-Law-84-/wcm8-aq5w."
   ]
  },
  {
   "cell_type": "code",
   "execution_count": 2,
   "id": "686f52e6-c694-439d-8c2d-0e3016c195dc",
   "metadata": {},
   "outputs": [
    {
     "name": "stderr",
     "output_type": "stream",
     "text": [
      "/tmp/ipykernel_3804/2245579677.py:1: DtypeWarning: Columns (10,16,82,225,226) have mixed types. Specify dtype option on import or set low_memory=False.\n",
      "  LL84_2019 = pd.read_csv(\"data/LL84_2019.csv\")\n"
     ]
    }
   ],
   "source": [
    "LL84_2019 = pd.read_csv(\"data/LL84_2019.csv\")"
   ]
  },
  {
   "cell_type": "code",
   "execution_count": 3,
   "id": "5eb67d85-0def-46fa-a25c-ca1ffc7e7e70",
   "metadata": {},
   "outputs": [
    {
     "name": "stdout",
     "output_type": "stream",
     "text": [
      "<class 'pandas.core.frame.DataFrame'>\n",
      "RangeIndex: 29084 entries, 0 to 29083\n",
      "Columns: 254 entries, Property Id to NTA\n",
      "dtypes: float64(6), int64(5), object(243)\n",
      "memory usage: 56.4+ MB\n"
     ]
    }
   ],
   "source": [
    "LL84_2019.info()"
   ]
  },
  {
   "cell_type": "code",
   "execution_count": 4,
   "id": "e98d6f02-9f33-40fc-af0d-7a7c9b6780ba",
   "metadata": {},
   "outputs": [
    {
     "data": {
      "text/html": [
       "<div>\n",
       "<style scoped>\n",
       "    .dataframe tbody tr th:only-of-type {\n",
       "        vertical-align: middle;\n",
       "    }\n",
       "\n",
       "    .dataframe tbody tr th {\n",
       "        vertical-align: top;\n",
       "    }\n",
       "\n",
       "    .dataframe thead th {\n",
       "        text-align: right;\n",
       "    }\n",
       "</style>\n",
       "<table border=\"1\" class=\"dataframe\">\n",
       "  <thead>\n",
       "    <tr style=\"text-align: right;\">\n",
       "      <th></th>\n",
       "      <th>Property Id</th>\n",
       "      <th>Property Name</th>\n",
       "      <th>Parent Property Id</th>\n",
       "      <th>Parent Property Name</th>\n",
       "      <th>Year Ending</th>\n",
       "      <th>NYC Borough, Block and Lot (BBL)</th>\n",
       "      <th>NYC Building Identification Number (BIN)</th>\n",
       "      <th>Address 1</th>\n",
       "      <th>Address 2</th>\n",
       "      <th>City</th>\n",
       "      <th>...</th>\n",
       "      <th>Last Modified Date - Water Meters</th>\n",
       "      <th>Generation Date</th>\n",
       "      <th>Release Date</th>\n",
       "      <th>Borough</th>\n",
       "      <th>Latitude</th>\n",
       "      <th>Longitude</th>\n",
       "      <th>Community Board</th>\n",
       "      <th>Council District</th>\n",
       "      <th>Census Tract</th>\n",
       "      <th>NTA</th>\n",
       "    </tr>\n",
       "  </thead>\n",
       "  <tbody>\n",
       "    <tr>\n",
       "      <th>0</th>\n",
       "      <td>7365</td>\n",
       "      <td>1155</td>\n",
       "      <td>Not Applicable: Standalone Property</td>\n",
       "      <td>Not Applicable: Standalone Property</td>\n",
       "      <td>12/31/2019</td>\n",
       "      <td>1009970029</td>\n",
       "      <td>1022631</td>\n",
       "      <td>1155  Avenue  of  the  Americas</td>\n",
       "      <td>Not Available</td>\n",
       "      <td>Manhattan</td>\n",
       "      <td>...</td>\n",
       "      <td>Not Available</td>\n",
       "      <td>05/28/2020 04:27:22 AM</td>\n",
       "      <td>05/28/2020 11:31:28 AM</td>\n",
       "      <td>MANHATTAN</td>\n",
       "      <td>40.756631</td>\n",
       "      <td>-73.982826</td>\n",
       "      <td>105.0</td>\n",
       "      <td>4.0</td>\n",
       "      <td>119.0</td>\n",
       "      <td>Midtown-Midtown South</td>\n",
       "    </tr>\n",
       "    <tr>\n",
       "      <th>1</th>\n",
       "      <td>8139</td>\n",
       "      <td>200</td>\n",
       "      <td>Not Applicable: Standalone Property</td>\n",
       "      <td>Not Applicable: Standalone Property</td>\n",
       "      <td>12/31/2019</td>\n",
       "      <td>1013150001</td>\n",
       "      <td>1037545</td>\n",
       "      <td>200  East  42nd  St.</td>\n",
       "      <td>Not Available</td>\n",
       "      <td>Manhattan</td>\n",
       "      <td>...</td>\n",
       "      <td>03/03/2020 05:46 PM EST</td>\n",
       "      <td>05/28/2020 04:27:23 AM</td>\n",
       "      <td>05/28/2020 11:31:28 AM</td>\n",
       "      <td>MANHATTAN</td>\n",
       "      <td>40.750698</td>\n",
       "      <td>-73.974306</td>\n",
       "      <td>106.0</td>\n",
       "      <td>4.0</td>\n",
       "      <td>88.0</td>\n",
       "      <td>Turtle Bay-East Midtown</td>\n",
       "    </tr>\n",
       "    <tr>\n",
       "      <th>2</th>\n",
       "      <td>8604</td>\n",
       "      <td>114</td>\n",
       "      <td>Not Applicable: Standalone Property</td>\n",
       "      <td>Not Applicable: Standalone Property</td>\n",
       "      <td>12/31/2019</td>\n",
       "      <td>1009990019</td>\n",
       "      <td>1022667</td>\n",
       "      <td>114  West  47th  st</td>\n",
       "      <td>Not Available</td>\n",
       "      <td>Manhattan</td>\n",
       "      <td>...</td>\n",
       "      <td>Not Available</td>\n",
       "      <td>05/28/2020 04:27:23 AM</td>\n",
       "      <td>05/28/2020 11:31:28 AM</td>\n",
       "      <td>MANHATTAN</td>\n",
       "      <td>40.758310</td>\n",
       "      <td>-73.982504</td>\n",
       "      <td>105.0</td>\n",
       "      <td>4.0</td>\n",
       "      <td>125.0</td>\n",
       "      <td>Midtown-Midtown South</td>\n",
       "    </tr>\n",
       "    <tr>\n",
       "      <th>3</th>\n",
       "      <td>8841</td>\n",
       "      <td>733</td>\n",
       "      <td>Not Applicable: Standalone Property</td>\n",
       "      <td>Not Applicable: Standalone Property</td>\n",
       "      <td>12/31/2019</td>\n",
       "      <td>1013190047</td>\n",
       "      <td>1037596</td>\n",
       "      <td>733  Third  Avenue</td>\n",
       "      <td>Not Available</td>\n",
       "      <td>Manhattan</td>\n",
       "      <td>...</td>\n",
       "      <td>Not Available</td>\n",
       "      <td>05/28/2020 04:27:24 AM</td>\n",
       "      <td>05/28/2020 11:31:28 AM</td>\n",
       "      <td>MANHATTAN</td>\n",
       "      <td>40.753074</td>\n",
       "      <td>-73.972753</td>\n",
       "      <td>106.0</td>\n",
       "      <td>4.0</td>\n",
       "      <td>90.0</td>\n",
       "      <td>Turtle Bay-East Midtown</td>\n",
       "    </tr>\n",
       "    <tr>\n",
       "      <th>4</th>\n",
       "      <td>11809</td>\n",
       "      <td>Conde Nast Building</td>\n",
       "      <td>Not Applicable: Standalone Property</td>\n",
       "      <td>Not Applicable: Standalone Property</td>\n",
       "      <td>12/31/2019</td>\n",
       "      <td>1009950005</td>\n",
       "      <td>1085682</td>\n",
       "      <td>4 Times Square</td>\n",
       "      <td>Not Available</td>\n",
       "      <td>Manhattan</td>\n",
       "      <td>...</td>\n",
       "      <td>Not Available</td>\n",
       "      <td>05/28/2020 04:27:25 AM</td>\n",
       "      <td>05/28/2020 11:31:28 AM</td>\n",
       "      <td>MANHATTAN</td>\n",
       "      <td>40.756181</td>\n",
       "      <td>-73.986244</td>\n",
       "      <td>105.0</td>\n",
       "      <td>4.0</td>\n",
       "      <td>119.0</td>\n",
       "      <td>Midtown-Midtown South</td>\n",
       "    </tr>\n",
       "  </tbody>\n",
       "</table>\n",
       "<p>5 rows × 254 columns</p>\n",
       "</div>"
      ],
      "text/plain": [
       "   Property Id        Property Name                   Parent Property Id  \\\n",
       "0         7365                 1155  Not Applicable: Standalone Property   \n",
       "1         8139                  200  Not Applicable: Standalone Property   \n",
       "2         8604                  114  Not Applicable: Standalone Property   \n",
       "3         8841                  733  Not Applicable: Standalone Property   \n",
       "4        11809  Conde Nast Building  Not Applicable: Standalone Property   \n",
       "\n",
       "                  Parent Property Name Year Ending  \\\n",
       "0  Not Applicable: Standalone Property  12/31/2019   \n",
       "1  Not Applicable: Standalone Property  12/31/2019   \n",
       "2  Not Applicable: Standalone Property  12/31/2019   \n",
       "3  Not Applicable: Standalone Property  12/31/2019   \n",
       "4  Not Applicable: Standalone Property  12/31/2019   \n",
       "\n",
       "  NYC Borough, Block and Lot (BBL) NYC Building Identification Number (BIN)  \\\n",
       "0                       1009970029                                  1022631   \n",
       "1                       1013150001                                  1037545   \n",
       "2                       1009990019                                  1022667   \n",
       "3                       1013190047                                  1037596   \n",
       "4                       1009950005                                  1085682   \n",
       "\n",
       "                         Address 1      Address 2       City  ...  \\\n",
       "0  1155  Avenue  of  the  Americas  Not Available  Manhattan  ...   \n",
       "1             200  East  42nd  St.  Not Available  Manhattan  ...   \n",
       "2              114  West  47th  st  Not Available  Manhattan  ...   \n",
       "3               733  Third  Avenue  Not Available  Manhattan  ...   \n",
       "4                   4 Times Square  Not Available  Manhattan  ...   \n",
       "\n",
       "  Last Modified Date - Water Meters         Generation Date  \\\n",
       "0                     Not Available  05/28/2020 04:27:22 AM   \n",
       "1           03/03/2020 05:46 PM EST  05/28/2020 04:27:23 AM   \n",
       "2                     Not Available  05/28/2020 04:27:23 AM   \n",
       "3                     Not Available  05/28/2020 04:27:24 AM   \n",
       "4                     Not Available  05/28/2020 04:27:25 AM   \n",
       "\n",
       "             Release Date    Borough   Latitude  Longitude Community Board  \\\n",
       "0  05/28/2020 11:31:28 AM  MANHATTAN  40.756631 -73.982826           105.0   \n",
       "1  05/28/2020 11:31:28 AM  MANHATTAN  40.750698 -73.974306           106.0   \n",
       "2  05/28/2020 11:31:28 AM  MANHATTAN  40.758310 -73.982504           105.0   \n",
       "3  05/28/2020 11:31:28 AM  MANHATTAN  40.753074 -73.972753           106.0   \n",
       "4  05/28/2020 11:31:28 AM  MANHATTAN  40.756181 -73.986244           105.0   \n",
       "\n",
       "  Council District Census Tract                      NTA  \n",
       "0              4.0        119.0    Midtown-Midtown South  \n",
       "1              4.0         88.0  Turtle Bay-East Midtown  \n",
       "2              4.0        125.0    Midtown-Midtown South  \n",
       "3              4.0         90.0  Turtle Bay-East Midtown  \n",
       "4              4.0        119.0    Midtown-Midtown South  \n",
       "\n",
       "[5 rows x 254 columns]"
      ]
     },
     "execution_count": 4,
     "metadata": {},
     "output_type": "execute_result"
    }
   ],
   "source": [
    "LL84_2019.head()"
   ]
  },
  {
   "cell_type": "code",
   "execution_count": 5,
   "id": "ba0f38af-254e-4a0e-8510-56ea29e3521c",
   "metadata": {},
   "outputs": [],
   "source": [
    "# Rename the column \"NYC Borough, Block and Lot (BBL)\" to \"BBL\"\n",
    "LL84_2019.rename(columns={\"NYC Borough, Block and Lot (BBL)\": \"BBL\"}, inplace=True)"
   ]
  },
  {
   "cell_type": "code",
   "execution_count": 6,
   "id": "048faafa-16b9-4091-9382-b615630b7f49",
   "metadata": {},
   "outputs": [],
   "source": [
    "# Reformat values in the BBL column\n",
    "LL84_2019[\"BBL\"] = LL84_2019[\"BBL\"].str.replace(\"-\", \"\").astype(str)"
   ]
  },
  {
   "cell_type": "code",
   "execution_count": 7,
   "id": "e7d3bc86-62f2-497f-946e-503a25181554",
   "metadata": {},
   "outputs": [],
   "source": [
    "current_year = 2019\n",
    "\n",
    "# Calculate building age\n",
    "LL84_2019 ['Building Age'] = current_year - LL84_2019['Year Built']"
   ]
  },
  {
   "cell_type": "code",
   "execution_count": 8,
   "id": "97fa583a-5bd2-410f-befc-bbfdbdb965d2",
   "metadata": {},
   "outputs": [
    {
     "ename": "KeyError",
     "evalue": "\"['Weather Normalized Site Energy Use (kBtu)Latitude'] not in index\"",
     "output_type": "error",
     "traceback": [
      "\u001b[0;31m---------------------------------------------------------------------------\u001b[0m",
      "\u001b[0;31mKeyError\u001b[0m                                  Traceback (most recent call last)",
      "Input \u001b[0;32mIn [8]\u001b[0m, in \u001b[0;36m<cell line: 14>\u001b[0;34m()\u001b[0m\n\u001b[1;32m      1\u001b[0m \u001b[38;5;66;03m# Retain only the specified columns\u001b[39;00m\n\u001b[1;32m      2\u001b[0m columns_to_retain \u001b[38;5;241m=\u001b[39m [\n\u001b[1;32m      3\u001b[0m     \u001b[38;5;124m\"\u001b[39m\u001b[38;5;124mBBL\u001b[39m\u001b[38;5;124m\"\u001b[39m,\n\u001b[1;32m      4\u001b[0m     \u001b[38;5;124m\"\u001b[39m\u001b[38;5;124mLargest Property Use Type - Gross Floor Area (ft²)\u001b[39m\u001b[38;5;124m\"\u001b[39m,\n\u001b[0;32m   (...)\u001b[0m\n\u001b[1;32m     12\u001b[0m     \u001b[38;5;124m\"\u001b[39m\u001b[38;5;124mNTA\u001b[39m\u001b[38;5;124m\"\u001b[39m\n\u001b[1;32m     13\u001b[0m ]\n\u001b[0;32m---> 14\u001b[0m LL84_2019 \u001b[38;5;241m=\u001b[39m \u001b[43mLL84_2019\u001b[49m\u001b[43m[\u001b[49m\u001b[43mcolumns_to_retain\u001b[49m\u001b[43m]\u001b[49m\n\u001b[1;32m     15\u001b[0m LL84_2019 \u001b[38;5;241m=\u001b[39m LL84_2019\u001b[38;5;241m.\u001b[39mreplace(\u001b[38;5;124m\"\u001b[39m\u001b[38;5;124mNot Available\u001b[39m\u001b[38;5;124m\"\u001b[39m, pd\u001b[38;5;241m.\u001b[39mNA)  \u001b[38;5;66;03m# Replace \"not available\" with NaN\u001b[39;00m\n\u001b[1;32m     16\u001b[0m LL84_2019\u001b[38;5;241m.\u001b[39mdropna(inplace\u001b[38;5;241m=\u001b[39m\u001b[38;5;28;01mTrue\u001b[39;00m)\n",
      "File \u001b[0;32m/opt/conda/lib/python3.10/site-packages/pandas/core/frame.py:3511\u001b[0m, in \u001b[0;36mDataFrame.__getitem__\u001b[0;34m(self, key)\u001b[0m\n\u001b[1;32m   3509\u001b[0m     \u001b[38;5;28;01mif\u001b[39;00m is_iterator(key):\n\u001b[1;32m   3510\u001b[0m         key \u001b[38;5;241m=\u001b[39m \u001b[38;5;28mlist\u001b[39m(key)\n\u001b[0;32m-> 3511\u001b[0m     indexer \u001b[38;5;241m=\u001b[39m \u001b[38;5;28;43mself\u001b[39;49m\u001b[38;5;241;43m.\u001b[39;49m\u001b[43mcolumns\u001b[49m\u001b[38;5;241;43m.\u001b[39;49m\u001b[43m_get_indexer_strict\u001b[49m\u001b[43m(\u001b[49m\u001b[43mkey\u001b[49m\u001b[43m,\u001b[49m\u001b[43m \u001b[49m\u001b[38;5;124;43m\"\u001b[39;49m\u001b[38;5;124;43mcolumns\u001b[39;49m\u001b[38;5;124;43m\"\u001b[39;49m\u001b[43m)\u001b[49m[\u001b[38;5;241m1\u001b[39m]\n\u001b[1;32m   3513\u001b[0m \u001b[38;5;66;03m# take() does not accept boolean indexers\u001b[39;00m\n\u001b[1;32m   3514\u001b[0m \u001b[38;5;28;01mif\u001b[39;00m \u001b[38;5;28mgetattr\u001b[39m(indexer, \u001b[38;5;124m\"\u001b[39m\u001b[38;5;124mdtype\u001b[39m\u001b[38;5;124m\"\u001b[39m, \u001b[38;5;28;01mNone\u001b[39;00m) \u001b[38;5;241m==\u001b[39m \u001b[38;5;28mbool\u001b[39m:\n",
      "File \u001b[0;32m/opt/conda/lib/python3.10/site-packages/pandas/core/indexes/base.py:5782\u001b[0m, in \u001b[0;36mIndex._get_indexer_strict\u001b[0;34m(self, key, axis_name)\u001b[0m\n\u001b[1;32m   5779\u001b[0m \u001b[38;5;28;01melse\u001b[39;00m:\n\u001b[1;32m   5780\u001b[0m     keyarr, indexer, new_indexer \u001b[38;5;241m=\u001b[39m \u001b[38;5;28mself\u001b[39m\u001b[38;5;241m.\u001b[39m_reindex_non_unique(keyarr)\n\u001b[0;32m-> 5782\u001b[0m \u001b[38;5;28;43mself\u001b[39;49m\u001b[38;5;241;43m.\u001b[39;49m\u001b[43m_raise_if_missing\u001b[49m\u001b[43m(\u001b[49m\u001b[43mkeyarr\u001b[49m\u001b[43m,\u001b[49m\u001b[43m \u001b[49m\u001b[43mindexer\u001b[49m\u001b[43m,\u001b[49m\u001b[43m \u001b[49m\u001b[43maxis_name\u001b[49m\u001b[43m)\u001b[49m\n\u001b[1;32m   5784\u001b[0m keyarr \u001b[38;5;241m=\u001b[39m \u001b[38;5;28mself\u001b[39m\u001b[38;5;241m.\u001b[39mtake(indexer)\n\u001b[1;32m   5785\u001b[0m \u001b[38;5;28;01mif\u001b[39;00m \u001b[38;5;28misinstance\u001b[39m(key, Index):\n\u001b[1;32m   5786\u001b[0m     \u001b[38;5;66;03m# GH 42790 - Preserve name from an Index\u001b[39;00m\n",
      "File \u001b[0;32m/opt/conda/lib/python3.10/site-packages/pandas/core/indexes/base.py:5845\u001b[0m, in \u001b[0;36mIndex._raise_if_missing\u001b[0;34m(self, key, indexer, axis_name)\u001b[0m\n\u001b[1;32m   5842\u001b[0m     \u001b[38;5;28;01mraise\u001b[39;00m \u001b[38;5;167;01mKeyError\u001b[39;00m(\u001b[38;5;124mf\u001b[39m\u001b[38;5;124m\"\u001b[39m\u001b[38;5;124mNone of [\u001b[39m\u001b[38;5;132;01m{\u001b[39;00mkey\u001b[38;5;132;01m}\u001b[39;00m\u001b[38;5;124m] are in the [\u001b[39m\u001b[38;5;132;01m{\u001b[39;00maxis_name\u001b[38;5;132;01m}\u001b[39;00m\u001b[38;5;124m]\u001b[39m\u001b[38;5;124m\"\u001b[39m)\n\u001b[1;32m   5844\u001b[0m not_found \u001b[38;5;241m=\u001b[39m \u001b[38;5;28mlist\u001b[39m(ensure_index(key)[missing_mask\u001b[38;5;241m.\u001b[39mnonzero()[\u001b[38;5;241m0\u001b[39m]]\u001b[38;5;241m.\u001b[39munique())\n\u001b[0;32m-> 5845\u001b[0m \u001b[38;5;28;01mraise\u001b[39;00m \u001b[38;5;167;01mKeyError\u001b[39;00m(\u001b[38;5;124mf\u001b[39m\u001b[38;5;124m\"\u001b[39m\u001b[38;5;132;01m{\u001b[39;00mnot_found\u001b[38;5;132;01m}\u001b[39;00m\u001b[38;5;124m not in index\u001b[39m\u001b[38;5;124m\"\u001b[39m)\n",
      "\u001b[0;31mKeyError\u001b[0m: \"['Weather Normalized Site Energy Use (kBtu)Latitude'] not in index\""
     ]
    }
   ],
   "source": [
    "# Retain only the specified columns\n",
    "columns_to_retain = [\n",
    "    \"BBL\",\n",
    "    \"Largest Property Use Type - Gross Floor Area (ft²)\",\n",
    "    \"Building Age\",\n",
    "    \"ENERGY STAR Score\",\n",
    "    \"Weather Normalized Source EUI (kBtu/ft²)\",\n",
    "    \"Weather Normalized Site Natural Gas Use (therms)\",\n",
    "    \"Weather Normalized Site Energy Use (kBtu)\",\n",
    "    \"Latitude\",\n",
    "    \"Longitude\",\n",
    "    \"NTA\"\n",
    "]\n",
    "LL84_2019 = LL84_2019[columns_to_retain]\n",
    "LL84_2019 = LL84_2019.replace(\"Not Available\", pd.NA)  # Replace \"not available\" with NaN\n",
    "LL84_2019.dropna(inplace=True)"
   ]
  },
  {
   "cell_type": "code",
   "execution_count": null,
   "id": "9a9db9fe-2499-4055-bdbf-0fb66466a34f",
   "metadata": {},
   "outputs": [],
   "source": [
    "# Remove duplicate rows\n",
    "LL84_2019.drop_duplicates(inplace=True)"
   ]
  },
  {
   "cell_type": "code",
   "execution_count": null,
   "id": "bffcff78-7f99-4da6-be87-8edba70c498e",
   "metadata": {},
   "outputs": [],
   "source": [
    "# Save file \n",
    "LL84_2019.to_csv(r\"Ll84_2019_processed.csv\", index=False)"
   ]
  },
  {
   "cell_type": "markdown",
   "id": "42d5c0c8-1b96-4007-8dff-b1b666c9aa84",
   "metadata": {},
   "source": [
    "### Reading PLUTO data"
   ]
  },
  {
   "cell_type": "markdown",
   "id": "b8160e31-1cba-4b54-ad52-927340fb2ef1",
   "metadata": {},
   "source": [
    "This is public information exported from MapPLUTO™ - Shapefile 19v2 Releases and available to download from here: https://www.nyc.gov/site/planning/data-maps/open-data/bytes-archive.page."
   ]
  },
  {
   "cell_type": "code",
   "execution_count": null,
   "id": "65c9dc17-32e1-479c-8b02-c3365aa945e9",
   "metadata": {},
   "outputs": [],
   "source": [
    "PLUTO_2019 = pd.read_csv(\"data/PLUTO_2019.csv\")"
   ]
  },
  {
   "cell_type": "code",
   "execution_count": null,
   "id": "9afdb475-aa86-4d7f-8a3a-1f76911910f7",
   "metadata": {},
   "outputs": [],
   "source": [
    "PLUTO_2019.info()"
   ]
  },
  {
   "cell_type": "code",
   "execution_count": null,
   "id": "cbeb7291-c6f0-4017-8f00-8531e68f77af",
   "metadata": {},
   "outputs": [],
   "source": [
    "PLUTO_2019.head()"
   ]
  },
  {
   "cell_type": "code",
   "execution_count": null,
   "id": "5f7452bf-2572-4d40-a184-4fe1dc355830",
   "metadata": {},
   "outputs": [],
   "source": [
    "# Remove unwanted colunms\n",
    "columns_to_drop = [\n",
    "    \"Borough\", \"Block\", \"Lot\", \"CD\", \"CT2010\", \"CB2010\", \"SchoolDist\",\n",
    "    \"Council\", \"ZipCode\", \"FireComp\", \"PolicePrct\", \"HealthCent\", \"HealthArea\",\n",
    "    \"Sanitboro\", \"SanitDistr\", \"SanitSub\", \"BldgClass\",\n",
    "    \"Easements\", \"OwnerType\", \"LotArea\", \"ComArea\", \"ResArea\", \"OfficeArea\", \"RetailArea\",\n",
    "    \"GarageArea\", \"StrgeArea\", \"FactryArea\", \"OtherArea\", \"AreaSource\",\n",
    "    \"UnitsRes\", \"UnitsTotal\", \"LotFront\", \"LotDepth\", \"BldgFront\", \"BldgDepth\", \"Ext\", \"IrrLotCode\",\n",
    "    \"BsmtCode\", \"AssessLand\", \"AssessTot\", \"ExemptTot\", \"YearBuilt\", \"YearAlter1\", \n",
    "    \"YearAlter2\", \"HistDist\",\"BuiltFAR\", \"ResidFAR\", \"CommFAR\", \"FacilFAR\", \"CondoNo\", \n",
    "    \"Tract2010\", \"APPBBL\", \"APPDate\", \"Address\", \"ZoneDist1\", \"ZoneDist2\", \n",
    "    \"ZoneDist3\", \"ZoneDist4\",\"Overlay1\", \"Overlay2\", \"SPDist1\", \"SPDist2\", \"SPDist3\",\n",
    "    \"LtdHeight\", \"SplitZone\", \"OwnerName\", \"HistDist\", \"Landmark\"\n",
    "]\n",
    "PLUTO_2019.drop(columns=columns_to_drop, inplace=True)"
   ]
  },
  {
   "cell_type": "code",
   "execution_count": null,
   "id": "c75f9f75-f3a2-4ebc-a999-fd6d5061244c",
   "metadata": {},
   "outputs": [],
   "source": [
    "# Remove unavailable lot type\n",
    "PLUTO_2019 = PLUTO_2019[PLUTO_2019[\"LotType\"] != 0]\n",
    "\n",
    "# Remove unavailable \n",
    "PLUTO_2019 = PLUTO_2019[PLUTO_2019[\"ProxCode\"] != 0]"
   ]
  },
  {
   "cell_type": "code",
   "execution_count": null,
   "id": "5ef75187-b1c7-48b8-a7b3-f74a16bbd06f",
   "metadata": {},
   "outputs": [],
   "source": [
    "# Fixes to exported BBLs\n",
    "PLUTO_2019[\"BBL\"] = PLUTO_2019[\"BBL\"].round(0).astype(int)"
   ]
  },
  {
   "cell_type": "code",
   "execution_count": null,
   "id": "7cbf3122-7bc9-4b87-a4f4-28cd0e422c8b",
   "metadata": {},
   "outputs": [],
   "source": [
    "# Save file \n",
    "PLUTO_2019.to_csv(r\"PLUTO_2019_processed.csv\", index=False)"
   ]
  },
  {
   "cell_type": "markdown",
   "id": "783edbdc-523a-4266-921a-e0bcd338da43",
   "metadata": {},
   "source": [
    "### Data integration according to BBL number"
   ]
  },
  {
   "cell_type": "code",
   "execution_count": null,
   "id": "23f5098a-498f-40c7-b8c6-3b7a704f46b5",
   "metadata": {},
   "outputs": [],
   "source": [
    "# load two datasets\n",
    "df_pluto = pd.read_csv(r\"PLUTO_2019_processed.csv\")\n",
    "df_ll84 = pd.read_csv(r\"LL84_2019_processed.csv\")"
   ]
  },
  {
   "cell_type": "code",
   "execution_count": null,
   "id": "f7e3e963-96a0-4405-88ac-444706e3f13d",
   "metadata": {},
   "outputs": [],
   "source": [
    "df_pluto['BBL'] = df_pluto['BBL'].astype(str)\n",
    "df_ll84['BBL'] = df_ll84['BBL'].astype(str)"
   ]
  },
  {
   "cell_type": "code",
   "execution_count": null,
   "id": "31da1765-0cc0-4a9f-b745-ed8fd52fa410",
   "metadata": {},
   "outputs": [],
   "source": [
    "# Merge two datasets according their BBL number\n",
    "merged_df = pd.merge(df_pluto, df_ll84, on=\"BBL\", how=\"inner\")"
   ]
  },
  {
   "cell_type": "code",
   "execution_count": null,
   "id": "09c1bbe2-ba5a-496d-af1a-c3410aff56aa",
   "metadata": {},
   "outputs": [],
   "source": [
    "# Save file\n",
    "merged_df.to_csv(r\"Merged_Data.csv\", index=False)"
   ]
  },
  {
   "cell_type": "code",
   "execution_count": null,
   "id": "2b90b0d3-6a80-40e0-9fca-9006f863792c",
   "metadata": {},
   "outputs": [],
   "source": []
  }
 ],
 "metadata": {
  "kernelspec": {
   "display_name": "Python 3 (ipykernel)",
   "language": "python",
   "name": "python3"
  },
  "language_info": {
   "codemirror_mode": {
    "name": "ipython",
    "version": 3
   },
   "file_extension": ".py",
   "mimetype": "text/x-python",
   "name": "python",
   "nbconvert_exporter": "python",
   "pygments_lexer": "ipython3",
   "version": "3.10.5"
  }
 },
 "nbformat": 4,
 "nbformat_minor": 5
}
