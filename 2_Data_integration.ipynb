{
 "cells": [
  {
   "cell_type": "markdown",
   "id": "3b4d279e-2302-4e5e-b451-faaceaefe53e",
   "metadata": {},
   "source": [
    "### Data integration"
   ]
  },
  {
   "cell_type": "markdown",
   "id": "133056fd-dc08-45a2-bf16-d5fc9cf94bae",
   "metadata": {},
   "source": [
    "This notebook outlines the steps taken to integrate data with the ACS dataset."
   ]
  },
  {
   "cell_type": "markdown",
   "id": "7d763fe3-e96a-4f6d-856b-f8bc8c377590",
   "metadata": {},
   "source": [
    "### Reading NTA_spatial_join.csv derived from QGIS spatial join"
   ]
  },
  {
   "cell_type": "markdown",
   "id": "56d0ed5e-03ff-4e16-b633-b9f26d3e3dc9",
   "metadata": {},
   "source": [
    "NTA_spatial_join.csv added NTA Geocode and name to the previous Merged_Data.csv "
   ]
  },
  {
   "cell_type": "code",
   "execution_count": null,
   "id": "844a00a3-2223-4c33-b4b7-630d0f701d24",
   "metadata": {},
   "outputs": [],
   "source": [
    "import pandas as pd\n",
    "from openpyxl import load_workbook"
   ]
  },
  {
   "cell_type": "code",
   "execution_count": null,
   "id": "e5069b35-a5b7-465b-b7ba-7b614fe094d5",
   "metadata": {},
   "outputs": [],
   "source": [
    "Spatial_join = pd.read_csv(\"data/NTA_spatial_join.csv\")"
   ]
  },
  {
   "cell_type": "code",
   "execution_count": null,
   "id": "e99abe78-f8e3-4fdf-a309-f0e02b94e07d",
   "metadata": {},
   "outputs": [],
   "source": [
    "Spatial_join.rename(columns={\"nta2020\": \"GeoID\"}, inplace=True)\n",
    "Spatial_join.rename(columns={\"Largest Property Use Type - Gross Floor Area (ft²)\": \"LargestPropertyUseTypeGrossFloorArea\"}, inplace=True)\n",
    "Spatial_join.rename(columns={\"ENERGY STAR Score\": \"ENERGY_STAR_SCORE\"}, inplace=True)\n",
    "Spatial_join.rename(columns={\"Weather Normalized Source EUI (kBtu/ft²)\": \"Weather_Normalized_Source EUI_(kBtu/ft²)\"}, inplace=True)\n",
    "Spatial_join.rename(columns={\"Weather Normalized Site Natural Gas Use (therms)\": \"Weather_Normalized_Site_Natural_Gas_Use_(therms)\"}, inplace=True)\n",
    "Spatial_join.rename(columns={\"Weather Normalized Site Energy Use (kBtu)\": \"Weather_Normalized_Site_Energy_Use_(kBtu) \"}, inplace=True)\n",
    "Spatial_join.rename(columns={\"Building Age\": \"Building_Age\"}, inplace=True)"
   ]
  },
  {
   "cell_type": "code",
   "execution_count": null,
   "id": "cd6f1e2f-e56a-4e88-bd4e-9b45897fc30b",
   "metadata": {},
   "outputs": [],
   "source": [
    "Spatial_join.info()"
   ]
  },
  {
   "cell_type": "markdown",
   "id": "d757206a-67e6-4ae0-9a5c-c3f704dcc566",
   "metadata": {},
   "source": [
    "### Reading ACS data"
   ]
  },
  {
   "cell_type": "markdown",
   "id": "53f3f29e-2b76-43aa-a4ab-3a3bcdb75b5c",
   "metadata": {},
   "source": [
    "This is public data available to download from here: https://www.nyc.gov/site/planning/planning-level/nyc-population/american-community-survey.page."
   ]
  },
  {
   "cell_type": "markdown",
   "id": "dc630aec-177e-4793-a6f2-cab0c648d851",
   "metadata": {},
   "source": [
    "#### ACS demo data"
   ]
  },
  {
   "cell_type": "code",
   "execution_count": null,
   "id": "c2b1d739-6a52-43fe-a237-ac4ffe434e69",
   "metadata": {},
   "outputs": [],
   "source": [
    "ACS_2019_demo = pd.read_excel(\"data/demo_2019.xlsx\")"
   ]
  },
  {
   "cell_type": "code",
   "execution_count": null,
   "id": "8993ad8c-56fb-4a69-b1d4-6911d916f546",
   "metadata": {},
   "outputs": [],
   "source": [
    "ACS_2019_demo.info()"
   ]
  },
  {
   "cell_type": "code",
   "execution_count": null,
   "id": "a3e63eb3-3d6a-4f64-addf-724bb7155d73",
   "metadata": {},
   "outputs": [],
   "source": [
    "ACS_2019_demo.head()"
   ]
  },
  {
   "cell_type": "code",
   "execution_count": null,
   "id": "934409e8-3780-41af-a05f-d4b34e655816",
   "metadata": {},
   "outputs": [],
   "source": [
    "ACS_2019_demo.info()"
   ]
  },
  {
   "cell_type": "code",
   "execution_count": null,
   "id": "2f97a0b9-63d7-41b2-b033-4521eaa51b8e",
   "metadata": {},
   "outputs": [],
   "source": [
    "ACS_2019_demo.rename(columns={\"Pop65pl1E\": \"Population_with_65_years_and_over\"}, inplace=True)\n",
    "ACS_2019_demo.rename(columns={\"Pop_1E\": \"Population\"}, inplace=True)"
   ]
  },
  {
   "cell_type": "code",
   "execution_count": null,
   "id": "fc55d1db-3f7c-4ee2-ba2d-f99e264f1168",
   "metadata": {},
   "outputs": [],
   "source": [
    "columns_to_keep = ['GeoID','Population_with_65_years_and_over', 'Population']\n",
    "ACS_2019_demo = ACS_2019_demo.loc[:, columns_to_keep]"
   ]
  },
  {
   "cell_type": "code",
   "execution_count": null,
   "id": "9e44f65e-0a26-4be9-a6da-0864c4110cde",
   "metadata": {},
   "outputs": [],
   "source": [
    "ACS_2019_demo.head()"
   ]
  },
  {
   "cell_type": "markdown",
   "id": "4d2013f5-5523-4405-8794-87c7491b575e",
   "metadata": {},
   "source": [
    "#### ACS eco data"
   ]
  },
  {
   "cell_type": "code",
   "execution_count": null,
   "id": "11c310d2-27bb-4529-b30a-c4e436536b1f",
   "metadata": {},
   "outputs": [],
   "source": [
    "ACS_2019_eco = pd.read_excel(\"data/econ_2019.xlsx\")"
   ]
  },
  {
   "cell_type": "code",
   "execution_count": null,
   "id": "e1b10ea6-7b59-4e1e-9774-1679167f4e6e",
   "metadata": {},
   "outputs": [],
   "source": [
    "ACS_2019_eco.info()"
   ]
  },
  {
   "cell_type": "code",
   "execution_count": null,
   "id": "ba81ca35-212b-4ba6-b133-38ecb866921c",
   "metadata": {},
   "outputs": [],
   "source": [
    "ACS_2019_eco.head()"
   ]
  },
  {
   "cell_type": "code",
   "execution_count": null,
   "id": "34945d3d-6699-4d3c-a131-7576223188e8",
   "metadata": {},
   "outputs": [],
   "source": [
    "ACS_2019_eco.rename(columns={\"MnHHIncE\": \"Mean_household_income_(dollars)\"}, inplace=True)\n",
    "ACS_2019_eco.rename(columns={\"PvHInsE\": \"Civilian_noninstitutionalized_population_with_private_insurance\"}, inplace=True)\n",
    "ACS_2019_eco.rename(columns={\"LFE\": \"Population_in_labour_force\"}, inplace=True)\n",
    "ACS_2019_eco.rename(columns={\"PopPvU2E\": \"Population_with_determined_poverty_status\"}, inplace=True)"
   ]
  },
  {
   "cell_type": "code",
   "execution_count": null,
   "id": "48cd42c8-8e4a-4b04-a838-0a605c2ea79b",
   "metadata": {},
   "outputs": [],
   "source": [
    "columns_to_keep = ['GeoID','Mean_household_income_(dollars)', 'Civilian_noninstitutionalized_population_with_private_insurance','Population_in_labour_force','Population_with_determined_poverty_status']\n",
    "ACS_2019_eco = ACS_2019_eco.loc[:, columns_to_keep]"
   ]
  },
  {
   "cell_type": "code",
   "execution_count": null,
   "id": "740609a2-a8ea-40cd-a3bb-0c6d7513be19",
   "metadata": {},
   "outputs": [],
   "source": [
    "ACS_2019_eco.head()"
   ]
  },
  {
   "cell_type": "code",
   "execution_count": null,
   "id": "de4e86e8-28a4-467e-93c0-00ecde51c001",
   "metadata": {},
   "outputs": [],
   "source": [
    "merged_df = pd.merge(ACS_2019_eco, ACS_2019_demo, on='GeoID', how='inner')"
   ]
  },
  {
   "cell_type": "code",
   "execution_count": null,
   "id": "05536b63-766e-40e2-b0da-9b2d0f836d87",
   "metadata": {},
   "outputs": [],
   "source": [
    "merged_df.head()"
   ]
  },
  {
   "cell_type": "markdown",
   "id": "dc8ff8eb-3d24-4b71-9dcc-fd3245c7bd14",
   "metadata": {},
   "source": [
    "#### ACS soc data"
   ]
  },
  {
   "cell_type": "code",
   "execution_count": null,
   "id": "0a4959f7-f55e-4f03-bced-082b0604e881",
   "metadata": {},
   "outputs": [],
   "source": [
    "ACS_2019_soc = pd.read_excel(\"data/soc_2019.xlsx\")"
   ]
  },
  {
   "cell_type": "code",
   "execution_count": null,
   "id": "0c90f7a7-f3bd-4100-ae4a-00f85d45341b",
   "metadata": {},
   "outputs": [],
   "source": [
    "ACS_2019_soc.info()"
   ]
  },
  {
   "cell_type": "code",
   "execution_count": null,
   "id": "0eb35180-952a-42bf-99ca-71b39574bfdc",
   "metadata": {},
   "outputs": [],
   "source": [
    "ACS_2019_soc.head()"
   ]
  },
  {
   "cell_type": "code",
   "execution_count": null,
   "id": "8e3ce13e-9bba-4517-9ff7-eb8ac2440e8a",
   "metadata": {},
   "outputs": [],
   "source": [
    "ACS_2019_soc.rename(columns={\"HH1E\": \"Total_households\"}, inplace=True)\n",
    "ACS_2019_soc.rename(columns={\"Pop3plEnE\": \"School_Employees\"}, inplace=True)\n",
    "ACS_2019_soc.rename(columns={\"EA_BchDHE\": \"Population_with_bachelor_degree_or_higher\"}, inplace=True)\n",
    "ACS_2019_soc.rename(columns={\"MS_M15plE\": \"Married_males\"}, inplace=True)\n",
    "ACS_2019_soc.rename(columns={\"MS_F15plE\": \"Married_females\"}, inplace=True)\n",
    "ACS_2019_soc.rename(columns={\"AvgHHSzE\": \"Average_household_size\"}, inplace=True)"
   ]
  },
  {
   "cell_type": "code",
   "execution_count": null,
   "id": "98a3579b-33a4-4810-98ed-84bed2966e1d",
   "metadata": {},
   "outputs": [],
   "source": [
    "columns_to_keep = ['GeoID','Total_households', 'School_Employees', 'Population_with_bachelor_degree_or_higher',\n",
    "                  'Married_males','Married_females', 'Average_household_size' ]\n",
    "ACS_2019_soc = ACS_2019_soc.loc[:, columns_to_keep]"
   ]
  },
  {
   "cell_type": "code",
   "execution_count": null,
   "id": "184c1c29-1fd9-4c54-840c-db52fabcc169",
   "metadata": {},
   "outputs": [],
   "source": [
    "ACS_2019_soc.head()"
   ]
  },
  {
   "cell_type": "code",
   "execution_count": null,
   "id": "d3e6a98b-7fcc-4419-8820-e464174cde08",
   "metadata": {},
   "outputs": [],
   "source": [
    "merged_df1 = pd.merge(merged_df, ACS_2019_soc, on='GeoID', how='inner')"
   ]
  },
  {
   "cell_type": "code",
   "execution_count": null,
   "id": "24beb255-0cae-4df5-91b3-fd5bcaaf63be",
   "metadata": {},
   "outputs": [],
   "source": [
    "merged_df1.head()"
   ]
  },
  {
   "cell_type": "markdown",
   "id": "016dca26-8722-4914-8ebb-ea2efd4ef7ee",
   "metadata": {},
   "source": [
    "#### ACS hous data"
   ]
  },
  {
   "cell_type": "code",
   "execution_count": null,
   "id": "c53daf2d-1a8d-4843-9829-d0614ce213df",
   "metadata": {},
   "outputs": [],
   "source": [
    "ACS_2019_hous = pd.read_excel(\"data/hous_2019.xlsx\")"
   ]
  },
  {
   "cell_type": "code",
   "execution_count": null,
   "id": "107415e2-9d9d-4583-8882-b9b5930051cd",
   "metadata": {},
   "outputs": [],
   "source": [
    "ACS_2019_hous.info()"
   ]
  },
  {
   "cell_type": "code",
   "execution_count": null,
   "id": "de3724bb-6288-426e-a812-dde479aabf11",
   "metadata": {},
   "outputs": [],
   "source": [
    "ACS_2019_hous.head()"
   ]
  },
  {
   "cell_type": "code",
   "execution_count": null,
   "id": "598dc488-ed44-44a5-9ae8-fcfe242acbb7",
   "metadata": {},
   "outputs": [],
   "source": [
    "ACS_2019_hous.rename(columns={\"VacHUE\": \"Vacant_housing_units\"}, inplace=True)\n",
    "ACS_2019_hous.rename(columns={\"MdGRE\": \"Median_Gross_Rent_(dollars)\"}, inplace=True)\n",
    "ACS_2019_hous.rename(columns={\"Vhcl3plAvE\": \"Housing_units_with_3_or_more_vehicles_available\"}, inplace=True)"
   ]
  },
  {
   "cell_type": "code",
   "execution_count": null,
   "id": "6d175a45-05fd-41dc-8b88-6cd90f3e3c90",
   "metadata": {},
   "outputs": [],
   "source": [
    "columns_to_keep = ['GeoID','Vacant_housing_units', 'Median_Gross_Rent_(dollars)','Housing_units_with_3_or_more_vehicles_available']\n",
    "ACS_2019_hous = ACS_2019_hous.loc[:, columns_to_keep]"
   ]
  },
  {
   "cell_type": "code",
   "execution_count": null,
   "id": "16aeccfe-8fb9-4ed9-adbf-a33ac8004b9c",
   "metadata": {},
   "outputs": [],
   "source": [
    "ACS_2019_hous.head()"
   ]
  },
  {
   "cell_type": "code",
   "execution_count": null,
   "id": "721d4cc3-2534-4288-9112-413976752bcb",
   "metadata": {},
   "outputs": [],
   "source": [
    "ACS_2019 = pd.merge(merged_df1, ACS_2019_hous, on='GeoID', how='inner')"
   ]
  },
  {
   "cell_type": "code",
   "execution_count": null,
   "id": "744a37cb-efa5-4e7f-8546-1fbc1f360873",
   "metadata": {},
   "outputs": [],
   "source": [
    "ACS_2019.head()"
   ]
  },
  {
   "cell_type": "code",
   "execution_count": null,
   "id": "cf8418ae-c59b-4c57-89ce-9f4b67f1d1a6",
   "metadata": {},
   "outputs": [],
   "source": [
    "ACS_2019.info()"
   ]
  },
  {
   "cell_type": "code",
   "execution_count": null,
   "id": "63ced72b-44b5-4271-a072-27e0000dd43d",
   "metadata": {},
   "outputs": [],
   "source": [
    "ACS_2019_cleaned = ACS_2019.dropna()"
   ]
  },
  {
   "cell_type": "code",
   "execution_count": null,
   "id": "b299bd04-68e4-40c3-a78b-38f656f880b4",
   "metadata": {},
   "outputs": [],
   "source": [
    "ACS_2019_cleaned.info()"
   ]
  },
  {
   "cell_type": "code",
   "execution_count": null,
   "id": "224e35fe-442b-4075-aed5-dd4300748c18",
   "metadata": {},
   "outputs": [],
   "source": [
    "ACS_2019_cleaned.to_csv('data/ACS_2019_cleaned.csv', index=False)"
   ]
  },
  {
   "cell_type": "markdown",
   "id": "0f25d31c-1054-4671-8864-cbe7d89c6a53",
   "metadata": {},
   "source": [
    "#### Merge with NTA_spatial_join.csv"
   ]
  },
  {
   "cell_type": "code",
   "execution_count": null,
   "id": "a5667a5e-502a-4268-b2fb-13e33f1cf6a4",
   "metadata": {},
   "outputs": [],
   "source": [
    "df = pd.merge(Spatial_join, ACS_2019_cleaned, on='GeoID', how='inner')"
   ]
  },
  {
   "cell_type": "code",
   "execution_count": null,
   "id": "ca29c58d-975d-4779-908f-3053d3accd51",
   "metadata": {},
   "outputs": [],
   "source": [
    "columns_to_drop = ['ZMCode', 'EDesigNum', 'FIRM07_FLA', 'PFIRM15_FL', 'Version', 'DCPEdited']\n",
    "df = df.drop(columns=columns_to_drop)"
   ]
  },
  {
   "cell_type": "code",
   "execution_count": null,
   "id": "29d2e23c-446c-43cc-9de4-9e4c68ed390e",
   "metadata": {},
   "outputs": [],
   "source": [
    "df.info()"
   ]
  },
  {
   "cell_type": "code",
   "execution_count": null,
   "id": "1ab8beda-0b6d-4517-8fb1-25b680dd25f6",
   "metadata": {},
   "outputs": [],
   "source": [
    "df.to_csv('data/df.csv', index=False)"
   ]
  },
  {
   "cell_type": "code",
   "execution_count": null,
   "id": "f289fde3-0887-4704-a3fd-415e0ef5314b",
   "metadata": {},
   "outputs": [],
   "source": []
  }
 ],
 "metadata": {
  "kernelspec": {
   "display_name": "Python 3 (ipykernel)",
   "language": "python",
   "name": "python3"
  },
  "language_info": {
   "codemirror_mode": {
    "name": "ipython",
    "version": 3
   },
   "file_extension": ".py",
   "mimetype": "text/x-python",
   "name": "python",
   "nbconvert_exporter": "python",
   "pygments_lexer": "ipython3",
   "version": "3.10.5"
  }
 },
 "nbformat": 4,
 "nbformat_minor": 5
}
